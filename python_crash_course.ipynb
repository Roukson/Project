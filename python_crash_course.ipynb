{
 "cells": [
  {
   "attachments": {},
   "cell_type": "markdown",
   "metadata": {},
   "source": [
    "Python crash course"
   ]
  },
  {
   "cell_type": "code",
   "execution_count": 2,
   "metadata": {},
   "outputs": [
    {
     "name": "stdout",
     "output_type": "stream",
     "text": [
      "hello, i am learning python\n"
     ]
    }
   ],
   "source": [
    "def display_message():\n",
    "    print('hello, i am learning python')\n",
    "display_message()"
   ]
  },
  {
   "cell_type": "code",
   "execution_count": 9,
   "metadata": {},
   "outputs": [
    {
     "name": "stdout",
     "output_type": "stream",
     "text": [
      "One of my favorite books is Alice In Wonderland\n"
     ]
    }
   ],
   "source": [
    "\n",
    "def favorite_book(title):\n",
    "        print(f\"One of my favorite books is {title.title()}\")\n",
    "\n",
    "favorite_book(title= \"Alice in Wonderland\")"
   ]
  },
  {
   "cell_type": "code",
   "execution_count": 13,
   "metadata": {},
   "outputs": [
    {
     "name": "stdout",
     "output_type": "stream",
     "text": [
      "the size of my shirt is 40, and I Love My Shirt\n",
      "the size of my shirt is 40, and I Love My Shirt\n"
     ]
    }
   ],
   "source": [
    "def make_shirt(size, message):\n",
    "    print(f\"the size of my shirt is {size}, and {message.title()}\")\n",
    "\n",
    "make_shirt(40, \"i love my shirt\")\n",
    "make_shirt(size=40, message=\"i love my shirt\")"
   ]
  },
  {
   "cell_type": "code",
   "execution_count": 5,
   "metadata": {},
   "outputs": [],
   "source": [
    "def make_shirt(size= \"large\", message= \"i love Python\"):\n",
    "   print(make_shirt(size, message))\n",
    "\n"
   ]
  },
  {
   "cell_type": "code",
   "execution_count": 10,
   "metadata": {},
   "outputs": [],
   "source": [
    "def large_shirt(size= 40, message='i am enjoying Python'):\n",
    "\n",
    "\n",
    "    large_shirt(size=40, message='i am enjoying Python')"
   ]
  },
  {
   "cell_type": "code",
   "execution_count": 9,
   "metadata": {},
   "outputs": [],
   "source": [
    "def medium_shirt(size= 40, message='i am enjoying Python'):\n",
    "    print(large_shirt(size, message))"
   ]
  },
  {
   "cell_type": "code",
   "execution_count": 12,
   "metadata": {},
   "outputs": [
    {
     "name": "stdout",
     "output_type": "stream",
     "text": [
      "Lagos is in Nigeria\n",
      "Kaduna is in Nigeria\n",
      "London is in England\n"
     ]
    }
   ],
   "source": [
    "def describe_city(city, country='Nigeria'):\n",
    "    print(f\"{city} is in {country.title()}\")\n",
    "\n",
    "\n",
    "describe_city(\"Lagos\")\n",
    "describe_city(\"Kaduna\")\n",
    "describe_city(\"London\", country='England')"
   ]
  },
  {
   "cell_type": "code",
   "execution_count": 29,
   "metadata": {},
   "outputs": [
    {
     "name": "stdout",
     "output_type": "stream",
     "text": [
      "abuja, Nigeria\n",
      "niamey, Niger\n",
      "senegal, Dakar\n"
     ]
    }
   ],
   "source": [
    "def city_country(city, country):\n",
    "    print(f\"{city}, {country.title()}\")\n",
    "    \n",
    "city_country(\"abuja\", \"nigeria\")\n",
    "city_country(\"niamey\", \"niger\")\n",
    "city_country(\"senegal\", \"dakar\")"
   ]
  },
  {
   "cell_type": "code",
   "execution_count": 35,
   "metadata": {},
   "outputs": [
    {
     "name": "stdout",
     "output_type": "stream",
     "text": [
      "{'name': '50_cent', 'album': 'massacre'}\n",
      "{'name': 'craig_david', 'album': 'born to do it'}\n",
      "{'name': 'p_square', 'album': 'game_over', 'songs': 10}\n"
     ]
    }
   ],
   "source": [
    "def make_album(artist_name, album_title, songs=None):\n",
    "    person = {'name':artist_name, 'album':album_title}\n",
    "    if songs:\n",
    "        person['songs'] = songs\n",
    "    return person\n",
    "print(make_album('50_cent', 'massacre'))\n",
    "print(make_album('craig_david', 'born to do it'))\n",
    "print(make_album('p_square', 'game_over', songs=10))\n"
   ]
  },
  {
   "cell_type": "code",
   "execution_count": 50,
   "metadata": {},
   "outputs": [
    {
     "name": "stdout",
     "output_type": "stream",
     "text": [
      "(enter 'q' at any time to quit)\n"
     ]
    },
    {
     "data": {
      "text/plain": [
       "{'name': 'hgbjn', 'album': 'q'}"
      ]
     },
     "execution_count": 50,
     "metadata": {},
     "output_type": "execute_result"
    }
   ],
   "source": [
    "def make_album(artist_name, album_title):\n",
    "    person = {'name':artist_name, 'album':album_title}\n",
    "    return person\n",
    "print(\"(enter 'q' at any time to quit)\")\n",
    "\n",
    "while True:   \n",
    "        artist_name = input('enter artist name: ')\n",
    "        if artist_name == 'q':\n",
    "            break;\n",
    "        album_title = input('enter the album title: ')\n",
    "        if  album_title == 'q':\n",
    "            break;\n",
    "make_album(artist_name, album_title)"
   ]
  },
  {
   "cell_type": "code",
   "execution_count": 53,
   "metadata": {},
   "outputs": [
    {
     "name": "stdout",
     "output_type": "stream",
     "text": [
      "hello, i love python!\n",
      "hello, python is my hobby!\n",
      "hello, i am enjoying python!\n"
     ]
    }
   ],
   "source": [
    "def show_messages(messages):\n",
    "    print(f\"hello, {messages}!\")\n",
    "    \n",
    "short_messages = ['i love python', 'python is my hobby', 'i am enjoying python']\n",
    "\n",
    "show_messages(short_messages[0])\n",
    "show_messages(short_messages[1])\n",
    "show_messages(short_messages[2])"
   ]
  },
  {
   "cell_type": "code",
   "execution_count": 72,
   "metadata": {},
   "outputs": [
    {
     "name": "stdout",
     "output_type": "stream",
     "text": [
      "\n",
      " items for making sandwich\n",
      "- ('salt', 'flour', 'baking powder')\n",
      "\n",
      " items for making sandwich\n",
      "- ('cheese', 'butter', 'oil')\n",
      "\n",
      " items for making sandwich\n",
      "- ('beef', 'spices', 'garlic')\n"
     ]
    }
   ],
   "source": [
    "def sandwich_items(*items):\n",
    "    print('\\n items for making sandwich')\n",
    "    for item in range(1):\n",
    "        print(f\"- {items}\")\n",
    " \n",
    "sandwich_items('salt', 'flour', 'baking powder')\n",
    "sandwich_items('cheese', 'butter', 'oil')\n",
    "sandwich_items('beef', 'spices','garlic')"
   ]
  },
  {
   "cell_type": "code",
   "execution_count": 73,
   "metadata": {},
   "outputs": [
    {
     "name": "stdout",
     "output_type": "stream",
     "text": [
      "{'location': 'kano', 'field': 'computer_science', 'language': 'hausa', 'school': 'bayero university kano', 'first_name': 'faruk', 'last_name': 'hussain'}\n"
     ]
    }
   ],
   "source": [
    "def build_profile(first, last, **user_info):\n",
    "\n",
    "    user_info['first_name'] = first\n",
    "    user_info['last_name'] = last\n",
    "    return user_info\n",
    "user_profile = build_profile('faruk', 'hussain',\n",
    "                                location='kano',\n",
    "                                field='computer_science', language='hausa', school='bayero university kano')\n",
    "print(user_profile)"
   ]
  },
  {
   "cell_type": "code",
   "execution_count": 74,
   "metadata": {},
   "outputs": [
    {
     "name": "stdout",
     "output_type": "stream",
     "text": [
      "{'color': 'black', 'name': 'mercedes', 'type': 'salon'}\n"
     ]
    }
   ],
   "source": [
    "def car_info(car_manufacturer, car_model, **car):\n",
    "    car['name'] = car_manufacturer\n",
    "    car['type'] = car_model\n",
    "    return car\n",
    "\n",
    "car_details = car_info('mercedes', 'salon', color='black')\n",
    "print(car_details)\n",
    "\n",
    "\n",
    "\n",
    "\n"
   ]
  },
  {
   "attachments": {},
   "cell_type": "markdown",
   "metadata": {},
   "source": [
    "CLASS"
   ]
  },
  {
   "attachments": {},
   "cell_type": "markdown",
   "metadata": {},
   "source": [
    "9-1"
   ]
  },
  {
   "cell_type": "code",
   "execution_count": 4,
   "metadata": {},
   "outputs": [
    {
     "name": "stdout",
     "output_type": "stream",
     "text": [
      "Gusto\n",
      "grilled_chicken\n",
      "Gusto have grilled_chicken\n",
      "Gusto is now open\n"
     ]
    }
   ],
   "source": [
    "\n",
    "class Restaurant:\n",
    "    def __init__(self, restaurant_name, cuisine_type):\n",
    "        \"intializing two attributes restaurant_name and cuisine_type\"\n",
    "        self.restaurant_name = restaurant_name\n",
    "        self.cuisine_type = cuisine_type\n",
    "\n",
    "\n",
    "    def describe_restaurant(self):\n",
    "            print(f\"{self.restaurant_name} have { self.cuisine_type}\")\n",
    "\n",
    "    def open_restaurant(self):\n",
    "            print(f\"{self.restaurant_name} is now open\")\n",
    "\n",
    "\n",
    "my_restaurant = Restaurant('Gusto', 'grilled_chicken')\n",
    "print(my_restaurant.restaurant_name)\n",
    "print(my_restaurant.cuisine_type)\n",
    "\n",
    "my_restaurant.describe_restaurant()\n",
    "my_restaurant.open_restaurant()\n",
    "\n",
    "\n",
    "\n",
    "\n"
   ]
  },
  {
   "attachments": {},
   "cell_type": "markdown",
   "metadata": {},
   "source": [
    "9-2"
   ]
  },
  {
   "cell_type": "code",
   "execution_count": 7,
   "metadata": {},
   "outputs": [
    {
     "name": "stdout",
     "output_type": "stream",
     "text": [
      "mama_put have Amala\n",
      "faruk_foods have meat_pie\n",
      "binta_tuwo have tuwo\n"
     ]
    }
   ],
   "source": [
    "your_restaurant = Restaurant('mama_put', 'Amala')\n",
    "\n",
    "your_restaurant.describe_restaurant()\n",
    "\n",
    "faruk_foods = Restaurant('faruk_foods', 'meat_pie')\n",
    "\n",
    "faruk_foods.describe_restaurant()\n",
    "\n",
    "binta_mai_tuwo = Restaurant('binta_tuwo', 'tuwo')\n",
    "\n",
    "binta_mai_tuwo.describe_restaurant()"
   ]
  },
  {
   "attachments": {},
   "cell_type": "markdown",
   "metadata": {},
   "source": [
    "9-3"
   ]
  },
  {
   "cell_type": "code",
   "execution_count": 19,
   "metadata": {},
   "outputs": [
    {
     "name": "stdout",
     "output_type": "stream",
     "text": [
      "Hello, your info is: \n",
      "hussain, \n",
      "Abdullahi, \n",
      "65, \n",
      "nigeria\n",
      "Hello, your info is: \n",
      "hussain, \n",
      "Abdullahi, \n",
      "65, \n",
      "nigeria\n",
      "Hello, your info is: \n",
      "faruk, \n",
      "hussain, \n",
      "28, \n",
      "nigeria\n",
      "Hello, your info is: \n",
      "faruk, \n",
      "hussain, \n",
      "28, \n",
      "nigeria\n"
     ]
    }
   ],
   "source": [
    "class User:\n",
    "    def __init__(self, first_name, last_name, age, nationality):\n",
    "        self.first_name = first_name \n",
    "        self.last_name = last_name\n",
    "        self.age = age\n",
    "        self.nationality = nationality\n",
    "\n",
    "        \n",
    "    def describe_user(self):\n",
    "            print(f\"Hello, your info is: \\n{self.first_name}, \\n{self.last_name}, \\n{self.age}, \\n{self.nationality}\")\n",
    "\n",
    "    def greet_user(self):\n",
    "        self.describe_user() \n",
    "         \n",
    "\n",
    "hussain_abdullahi = User('hussain', 'Abdullahi', '65', 'nigeria')\n",
    "hussain_abdullahi.describe_user()\n",
    "hussain_abdullahi.greet_user()\n",
    "\n",
    "faruk_hussain = User('faruk', 'hussain', '28', 'nigeria')\n",
    "faruk_hussain.describe_user()\n",
    "faruk_hussain.greet_user()\n",
    "        "
   ]
  }
 ],
 "metadata": {
  "kernelspec": {
   "display_name": "base",
   "language": "python",
   "name": "python3"
  },
  "language_info": {
   "codemirror_mode": {
    "name": "ipython",
    "version": 3
   },
   "file_extension": ".py",
   "mimetype": "text/x-python",
   "name": "python",
   "nbconvert_exporter": "python",
   "pygments_lexer": "ipython3",
   "version": "3.9.13"
  },
  "orig_nbformat": 4,
  "vscode": {
   "interpreter": {
    "hash": "222965bc068ef7c442cf9d97d39cb219d941bf151a7d2392a0b2c8fb3b71bd3f"
   }
  }
 },
 "nbformat": 4,
 "nbformat_minor": 2
}
